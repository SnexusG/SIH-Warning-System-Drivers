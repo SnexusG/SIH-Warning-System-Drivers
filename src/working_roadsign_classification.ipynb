{
 "cells": [
  {
   "cell_type": "code",
   "execution_count": 2,
   "metadata": {},
   "outputs": [],
   "source": [
    "# import the necessary packages\n",
    "from tensorflow.keras.models import load_model\n",
    "from skimage import transform\n",
    "from skimage import exposure\n",
    "from skimage import io\n",
    "from imutils import paths\n",
    "import numpy as np\n",
    "import argparse\n",
    "import imutils\n",
    "import random\n",
    "import cv2\n",
    "import os\n"
   ]
  },
  {
   "cell_type": "code",
   "execution_count": 3,
   "metadata": {},
   "outputs": [
    {
     "name": "stdout",
     "output_type": "stream",
     "text": [
      "[INFO] loading model...\n"
     ]
    }
   ],
   "source": [
    "print(\"[INFO] loading model...\")\n",
    "model = load_model(\"output/trafficsignnet.model\")"
   ]
  },
  {
   "cell_type": "code",
   "execution_count": 4,
   "metadata": {},
   "outputs": [],
   "source": [
    "labelNames = open(\"signnames.csv\").read().strip().split(\"\\n\")[1:]\n",
    "labelNames = [l.split(\",\")[1] for l in labelNames]"
   ]
  },
  {
   "cell_type": "code",
   "execution_count": 5,
   "metadata": {},
   "outputs": [
    {
     "name": "stdout",
     "output_type": "stream",
     "text": [
      "[INFO] predicting...\n"
     ]
    }
   ],
   "source": [
    "print(\"[INFO] predicting...\")\n",
    "imagePaths = list(paths.list_images(\"gtsrb-german-traffic-sign/Test\"))\n",
    "random.shuffle(imagePaths)\n",
    "imagePaths = imagePaths[:25]\n",
    "imagePaths = ['gtsrb-german-traffic-sign/Test\\\\00020.png']"
   ]
  },
  {
   "cell_type": "code",
   "execution_count": 6,
   "metadata": {},
   "outputs": [
    {
     "name": "stderr",
     "output_type": "stream",
     "text": [
      "C:\\Users\\pc\\Anaconda3\\lib\\site-packages\\skimage\\util\\dtype.py:135: UserWarning: Possible precision loss when converting from float64 to uint16\n",
      "  .format(dtypeobj_in, dtypeobj_out))\n"
     ]
    }
   ],
   "source": [
    "# loop over the image paths\n",
    "for (i, imagePath) in enumerate(imagePaths):\n",
    "\t# load the image, resize it to 32x32 pixels, and then apply\n",
    "\t# Contrast Limited Adaptive Histogram Equalization (CLAHE),\n",
    "\t# just like we did during training\n",
    "\timage = io.imread(imagePath)\n",
    "\timage = transform.resize(image, (32, 32))\n",
    "\timage = exposure.equalize_adapthist(image, clip_limit=0.1)\n",
    "\n",
    "\t# preprocess the image by scaling it to the range [0, 1]\n",
    "\timage = image.astype(\"float32\") / 255.0\n",
    "\timage = np.expand_dims(image, axis=0)\n",
    "\n",
    "\t# make predictions using the traffic sign recognizer CNN\n",
    "\tpreds = model.predict(image)\n",
    "\tj = preds.argmax(axis=1)[0]\n",
    "\tlabel = labelNames[j]\n",
    "\n",
    "\t# load the image using OpenCV, resize it, and draw the label\n",
    "\t# on it\n",
    "\timage = cv2.imread(imagePath)\n",
    "\timage = imutils.resize(image, width=128)\n",
    "\n",
    "\tcv2.putText(image, label, (5, 15), cv2.FONT_HERSHEY_SIMPLEX,\n",
    "\t\t0.45, (\t0, 100, 0), 2)\n",
    "    \n",
    "\tcv2.imshow(\"image\", image)\n",
    "\tp = os.path.sep.join([\"examples\", \"{}.png\".format(i)])\n",
    "\tcv2.imwrite(p, image)\n",
    "\n",
    "\n",
    "    "
   ]
  },
  {
   "cell_type": "code",
   "execution_count": null,
   "metadata": {},
   "outputs": [],
   "source": []
  }
 ],
 "metadata": {
  "kernelspec": {
   "display_name": "Python 3",
   "language": "python",
   "name": "python3"
  },
  "language_info": {
   "codemirror_mode": {
    "name": "ipython",
    "version": 3
   },
   "file_extension": ".py",
   "mimetype": "text/x-python",
   "name": "python",
   "nbconvert_exporter": "python",
   "pygments_lexer": "ipython3",
   "version": "3.6.9"
  }
 },
 "nbformat": 4,
 "nbformat_minor": 2
}
